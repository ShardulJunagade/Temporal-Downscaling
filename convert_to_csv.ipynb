{
 "cells": [
  {
   "cell_type": "code",
   "execution_count": 1,
   "id": "e2106af5",
   "metadata": {},
   "outputs": [],
   "source": [
    "# !pip install cfgrib xarray pandas"
   ]
  },
  {
   "cell_type": "code",
   "execution_count": null,
   "id": "d61fe8bd",
   "metadata": {},
   "outputs": [
    {
     "name": "stdout",
     "output_type": "stream",
     "text": [
      "Processing ./era5_data/era5_2021.grib...\n"
     ]
    },
    {
     "name": "stderr",
     "output_type": "stream",
     "text": [
      "c:\\Users\\shard\\Desktop\\Hackrush 2025\\Temporal-Downscaling\\.venv\\lib\\site-packages\\cfgrib\\xarray_plugin.py:131: FutureWarning: In a future version of xarray decode_timedelta will default to False rather than None. To silence this warning, set decode_timedelta to True, False, or a 'CFTimedeltaCoder' instance.\n",
      "  vars, attrs, coord_names = xr.conventions.decode_cf_variables(\n"
     ]
    },
    {
     "name": "stdout",
     "output_type": "stream",
     "text": [
      "Saved ./data/era5_2021.csv\n"
     ]
    }
   ],
   "source": [
    "# convert from grib to csv\n",
    "import xarray as xr\n",
    "import pandas as pd\n",
    "import os\n",
    "import numpy as np\n",
    "\n",
    "# Define the path where the .grib files are saved\n",
    "grib_dir = \"./era5_data/\"\n",
    "csv_dir = \"./data/era5/\"\n",
    "os.makedirs(csv_dir, exist_ok=True)\n",
    "years = range(2021, 2022)\n",
    "grib_files = [f\"era5_{year}.grib\" for year in years]\n",
    "\n",
    "for grib_file in grib_files:\n",
    "    grib_path = os.path.join(grib_dir, grib_file)\n",
    "    print(f\"Processing {grib_path}...\")\n",
    "    \n",
    "    # Open the .grib file using xarray\n",
    "    ds = xr.open_dataset(grib_path, engine='cfgrib')\n",
    "    \n",
    "    # Convert to DataFrame\n",
    "    df = ds.to_dataframe()\n",
    "    \n",
    "    # Save as .csv\n",
    "    csv_file = os.path.splitext(grib_file)[0] + '.csv'\n",
    "    csv_path = os.path.join(csv_dir, csv_file)\n",
    "    df.to_csv(csv_path, index=False)\n",
    "    \n",
    "    print(f\"Saved {csv_path}\")"
   ]
  },
  {
   "cell_type": "code",
   "execution_count": null,
   "id": "eb8e6d7e",
   "metadata": {},
   "outputs": [],
   "source": []
  }
 ],
 "metadata": {
  "kernelspec": {
   "display_name": ".venv",
   "language": "python",
   "name": "python3"
  },
  "language_info": {
   "codemirror_mode": {
    "name": "ipython",
    "version": 3
   },
   "file_extension": ".py",
   "mimetype": "text/x-python",
   "name": "python",
   "nbconvert_exporter": "python",
   "pygments_lexer": "ipython3",
   "version": "3.10.16"
  }
 },
 "nbformat": 4,
 "nbformat_minor": 5
}
